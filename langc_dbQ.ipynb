{
 "cells": [
  {
   "cell_type": "code",
   "execution_count": 11,
   "metadata": {},
   "outputs": [],
   "source": [
    "import pandas as pd\n",
    "import sqlite3\n",
    "import os\n",
    "from langchain import OpenAI, SQLDatabase, SQLDatabaseChain"
   ]
  },
  {
   "cell_type": "code",
   "execution_count": 12,
   "metadata": {},
   "outputs": [],
   "source": [
    "def read_api_key(file_path):\n",
    "    with open(file_path, 'r') as file:\n",
    "        api_key = file.read().strip()\n",
    "    return api_key\n",
    "\n",
    "# Replace 'api_key.txt' with the name of your file, if different\n",
    "api_key_file = 'openai_key.txt'\n",
    "api_key = read_api_key(api_key_file)\n",
    "os.environ['OPENAI_API_KEY'] = api_key"
   ]
  },
  {
   "cell_type": "code",
   "execution_count": 13,
   "metadata": {},
   "outputs": [],
   "source": [
    "conn = sqlite3.connect('mhealth.db')"
   ]
  },
  {
   "cell_type": "code",
   "execution_count": 14,
   "metadata": {},
   "outputs": [
    {
     "data": {
      "text/plain": [
       "10404"
      ]
     },
     "execution_count": 14,
     "metadata": {},
     "output_type": "execute_result"
    }
   ],
   "source": [
    "df = pd.read_csv('Mental_Health_Care_in_the_Last_4_Weeks.csv')\n",
    "df.to_sql('mhealth.db', conn, if_exists='append', index=False)"
   ]
  },
  {
   "cell_type": "code",
   "execution_count": 15,
   "metadata": {},
   "outputs": [],
   "source": [
    "dburi = 'sqlite:///mhealth.db'\n",
    "\n",
    "db = SQLDatabase.from_uri(dburi)\n",
    "llm = OpenAI(temperature=0)\n"
   ]
  },
  {
   "cell_type": "code",
   "execution_count": 16,
   "metadata": {},
   "outputs": [],
   "source": [
    "db_chain = SQLDatabaseChain(llm=llm, database=db, verbose=True)"
   ]
  },
  {
   "cell_type": "code",
   "execution_count": 17,
   "metadata": {},
   "outputs": [
    {
     "name": "stdout",
     "output_type": "stream",
     "text": [
      "\n",
      "\n",
      "\u001b[1m> Entering new SQLDatabaseChain chain...\u001b[0m\n",
      "How many rows is in the responses table of this db?\n",
      "SQLQuery:\u001b[32;1m\u001b[1;3m SELECT COUNT(*) FROM \"mhealth.db\";\u001b[0m\n",
      "SQLResult: \u001b[33;1m\u001b[1;3m[(20808,)]\u001b[0m\n",
      "Answer:\u001b[32;1m\u001b[1;3m There are 20808 rows in the responses table of this db.\u001b[0m\n",
      "\u001b[1m> Finished chain.\u001b[0m\n"
     ]
    },
    {
     "data": {
      "text/plain": [
       "' There are 20808 rows in the responses table of this db.'"
      ]
     },
     "execution_count": 17,
     "metadata": {},
     "output_type": "execute_result"
    }
   ],
   "source": [
    "db_chain.run(\"How many rows is in the responses table of this db?\")"
   ]
  },
  {
   "cell_type": "code",
   "execution_count": 18,
   "metadata": {},
   "outputs": [
    {
     "name": "stdout",
     "output_type": "stream",
     "text": [
      "\n",
      "\n",
      "\u001b[1m> Entering new SQLDatabaseChain chain...\u001b[0m\n",
      "Describe the response table\n",
      "SQLQuery:\u001b[32;1m\u001b[1;3m SELECT \"Indicator\", \"Group\", \"State\", \"Subgroup\", \"Phase\", \"Time Period\", \"Time Period Label\", \"Time Period Start Date\", \"Time Period End Date\", \"Value\", \"LowCI\", \"HighCI\", \"Confidence Interval\", \"Quartile Range\", \"Suppression Flag\" FROM \"mhealth.db\" LIMIT 5;\u001b[0m\n",
      "SQLResult: \u001b[33;1m\u001b[1;3m[('Took Prescription Medication for Mental Health, Last 4 Weeks', 'National Estimate', 'United States', 'United States', '2', 13, 'Aug 19 - Aug 31, 2020', '08/19/2020', '08/31/2020', 19.4, 19.0, 19.8, '19.0 - 19.8', None, None), ('Took Prescription Medication for Mental Health, Last 4 Weeks', 'By Age', 'United States', '18 - 29 years', '2', 13, 'Aug 19 - Aug 31, 2020', '08/19/2020', '08/31/2020', 18.7, 17.2, 20.3, '17.2 - 20.3', None, None), ('Took Prescription Medication for Mental Health, Last 4 Weeks', 'By Age', 'United States', '30 - 39 years', '2', 13, 'Aug 19 - Aug 31, 2020', '08/19/2020', '08/31/2020', 18.3, 17.3, 19.2, '17.3 - 19.2', None, None), ('Took Prescription Medication for Mental Health, Last 4 Weeks', 'By Age', 'United States', '40 - 49 years', '2', 13, 'Aug 19 - Aug 31, 2020', '08/19/2020', '08/31/2020', 20.4, 19.5, 21.3, '19.5 - 21.3', None, None), ('Took Prescription Medication for Mental Health, Last 4 Weeks', 'By Age', 'United States', '50 - 59 years', '2', 13, 'Aug 19 - Aug 31, 2020', '08/19/2020', '08/31/2020', 21.2, 20.2, 22.2, '20.2 - 22.2', None, None)]\u001b[0m\n",
      "Answer:\u001b[32;1m\u001b[1;3m The response table contains 15 columns: Indicator, Group, State, Subgroup, Phase, Time Period, Time Period Label, Time Period Start Date, Time Period End Date, Value, LowCI, HighCI, Confidence Interval, Quartile Range, and Suppression Flag.\u001b[0m\n",
      "\u001b[1m> Finished chain.\u001b[0m\n"
     ]
    },
    {
     "data": {
      "text/plain": [
       "' The response table contains 15 columns: Indicator, Group, State, Subgroup, Phase, Time Period, Time Period Label, Time Period Start Date, Time Period End Date, Value, LowCI, HighCI, Confidence Interval, Quartile Range, and Suppression Flag.'"
      ]
     },
     "execution_count": 18,
     "metadata": {},
     "output_type": "execute_result"
    }
   ],
   "source": [
    "db_chain.run(\"Describe the response table\")"
   ]
  },
  {
   "cell_type": "code",
   "execution_count": 19,
   "metadata": {},
   "outputs": [
    {
     "name": "stderr",
     "output_type": "stream",
     "text": [
      "Retrying langchain.llms.openai.completion_with_retry.<locals>._completion_with_retry in 4.0 seconds as it raised APIConnectionError: Error communicating with OpenAI: ('Connection aborted.', RemoteDisconnected('Remote end closed connection without response')).\n"
     ]
    },
    {
     "name": "stdout",
     "output_type": "stream",
     "text": [
      "\n",
      "\n",
      "\u001b[1m> Entering new SQLDatabaseChain chain...\u001b[0m\n",
      "What are the top 3 countries where these responses are from?\n",
      "SQLQuery:\u001b[32;1m\u001b[1;3m SELECT \"State\", COUNT(*) AS \"Count\" FROM \"mhealth.db\" GROUP BY \"State\" ORDER BY \"Count\" DESC LIMIT 3;\u001b[0m\n",
      "SQLResult: \u001b[33;1m\u001b[1;3m[('United States', 7344), ('Wyoming', 264), ('Wisconsin', 264)]\u001b[0m\n",
      "Answer:\u001b[32;1m\u001b[1;3m The top 3 countries where these responses are from are United States, Wyoming, and Wisconsin.\u001b[0m\n",
      "\u001b[1m> Finished chain.\u001b[0m\n"
     ]
    },
    {
     "data": {
      "text/plain": [
       "' The top 3 countries where these responses are from are United States, Wyoming, and Wisconsin.'"
      ]
     },
     "execution_count": 19,
     "metadata": {},
     "output_type": "execute_result"
    }
   ],
   "source": [
    "db_chain.run(\"What are the top 3 countries where these responses are from?\")"
   ]
  },
  {
   "cell_type": "code",
   "execution_count": 20,
   "metadata": {},
   "outputs": [
    {
     "name": "stdout",
     "output_type": "stream",
     "text": [
      "\n",
      "\n",
      "\u001b[1m> Entering new SQLDatabaseChain chain...\u001b[0m\n",
      "Give me a summary of how these customers came to hear about us. What is the most common way they hear about us?\n",
      "SQLQuery:\u001b[32;1m\u001b[1;3m SELECT \"Group\", COUNT(\"Group\") AS \"Number of Groups\" FROM \"mhealth.db\" GROUP BY \"Group\" ORDER BY \"Number of Groups\" DESC LIMIT 5;\u001b[0m\n",
      "SQLResult: \u001b[33;1m\u001b[1;3m[('By State', 13464), ('By Age', 2128), ('By Race/Hispanic ethnicity', 1520), ('By Education', 1216), ('By Sex', 608)]\u001b[0m\n",
      "Answer:\u001b[32;1m\u001b[1;3m The most common way customers hear about us is by State, with 13464 customers.\u001b[0m\n",
      "\u001b[1m> Finished chain.\u001b[0m\n"
     ]
    },
    {
     "data": {
      "text/plain": [
       "' The most common way customers hear about us is by State, with 13464 customers.'"
      ]
     },
     "execution_count": 20,
     "metadata": {},
     "output_type": "execute_result"
    }
   ],
   "source": [
    "db_chain.run(\"Give me a summary of how these customers came to hear about us. What is the most common way they hear about us?\")"
   ]
  }
 ],
 "metadata": {
  "kernelspec": {
   "display_name": "transformers",
   "language": "python",
   "name": "python3"
  },
  "language_info": {
   "codemirror_mode": {
    "name": "ipython",
    "version": 3
   },
   "file_extension": ".py",
   "mimetype": "text/x-python",
   "name": "python",
   "nbconvert_exporter": "python",
   "pygments_lexer": "ipython3",
   "version": "3.10.10"
  },
  "orig_nbformat": 4
 },
 "nbformat": 4,
 "nbformat_minor": 2
}
